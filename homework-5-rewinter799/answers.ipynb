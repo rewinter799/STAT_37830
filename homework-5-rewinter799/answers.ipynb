{
 "cells": [
  {
   "cell_type": "markdown",
   "metadata": {},
   "source": [
    "# Homework 5\n",
    "\n",
    "In this homework, you'll review some linear algebra, and practice using `scipy.optimize` to solve several variations of linear models.  "
   ]
  },
  {
   "cell_type": "code",
   "execution_count": 59,
   "metadata": {},
   "outputs": [],
   "source": [
    "import numpy as np\n",
    "import matplotlib.pyplot as plt\n",
    "import scipy.linalg as la\n",
    "import scipy"
   ]
  },
  {
   "cell_type": "markdown",
   "metadata": {},
   "source": [
    "## Linear Models\n",
    "\n",
    "A standard problem in statistics to solve the multivariate linear regression problem.\n",
    "\\begin{equation}\n",
    "y = X * \\beta + \\epsilon\n",
    "\\end{equation}\n",
    "The above notation is standard in statistics, but in our discussion (and codes) we will replace $\\beta$ with `b`\n",
    "```\n",
    "y = X * b + eps.\n",
    "```\n",
    "`X` is known as the [design matrix](https://en.wikipedia.org/wiki/Design_matrix), and consists of `n` rows of observations, each of which has `p` features (so it is an $n\\times p$ matrix).  `y` is a vector of `n` responses.  `b` is an unknown vector of `p` coefficients which we would like to find.  `eps` (epsilon) is a vector of length `n` with random noise, typically i.i.d. normally distributed with variance `sig` (sigma).\n",
    "\n",
    "In numpy notation, we could express this as\n",
    "```python\n",
    "y[i] = np.dot(X[i], b) + sig * np.random.randn()\n",
    "```\n",
    "\n",
    "We want to determine `b`, so that when me make a new observation `X[n]` we can predict the response `y[n]`.  One way to do this is to minimize the mean square error\n",
    "\n",
    "\\begin{equation}\n",
    "\\mathop{\\mathsf{minimize}}_b \\mathbb{E}((X[n]*b - y[n])^2)\n",
    "\\end{equation}\n",
    "\n",
    "The solution to this is the solution to the least squares problem\n",
    "\\begin{equation}\n",
    "\\mathop{\\mathsf{minimize}}_b \\frac{1}{n} \\|X*b - y\\|_2^2\n",
    "\\end{equation}\n",
    "\n",
    "Where $n$ is the number of rows in $X$.  We'll let the solution to the problem be denoted $\\hat{b}$, or `bhat`."
   ]
  },
  {
   "cell_type": "markdown",
   "metadata": {},
   "source": [
    "## Problem 0 - Linear Regression (37 points)\n",
    "\n",
    "There are a variety of ways to solve the above problem.  We will assume that $n > p$, meaning there are more observations than features.\n",
    "\n",
    "### Part A: Generating Data (5 points)\n",
    "\n",
    "Write a function `gen_lstsq(n, p, sig=0.1)` which will generate a linear least squares problem (return `X`, `y`, and `b` as described above).  `b` is the \"ground truth\" coefficients that we are looking for.  You can generate the matrix `X` using `np.random.randn`, and generate `b` using `np.random.randn` as well. \n"
   ]
  },
  {
   "cell_type": "code",
   "execution_count": 60,
   "metadata": {},
   "outputs": [],
   "source": [
    "def gen_lstsq(n, p, sig = 0.1):\n",
    "    \"\"\"\n",
    "    Generates a random (standard normal) least squares problem with n observations and p features.\n",
    "\n",
    "    Parameters:\n",
    "    n is the number of observations.\n",
    "    p is the number of features.\n",
    "    sig is the variance of the normally distributed error term.\n",
    "\n",
    "    Returns:\n",
    "    y, an ndarray containing n observations of the regressand.\n",
    "    X, an ndarray representing the (n x p) design matrix with random entries distributed N(0, 1).\n",
    "    b, an ndarray containing the coefficients of the p features.\n",
    "    \"\"\"\n",
    "    X = np.random.randn(n, p)\n",
    "    b = np.random.randn(p)\n",
    "    eps = sig * np.random.randn(n)\n",
    "    y = X @ b + eps\n",
    "\n",
    "    return y, X, b"
   ]
  },
  {
   "cell_type": "markdown",
   "metadata": {},
   "source": [
    "### Part B: QR factorization (3 points)\n",
    "\n",
    "If we form a QR factorization $X = QR$, we can find $\\hat{b} = R^{-1} Q^T y$.\n",
    "\n",
    "Write a function `solve_lstsq_qr(X, y)` which estimates `b` using the QR factorization as above. "
   ]
  },
  {
   "cell_type": "code",
   "execution_count": 61,
   "metadata": {},
   "outputs": [],
   "source": [
    "def solve_lstsq_qr(X, y):\n",
    "    \"\"\"\n",
    "    Estimates bhat using the QR factorization.\n",
    "\n",
    "    Parameters:\n",
    "    X is an ndarray representing the (n x p) design matrix.\n",
    "    y is an ndarray containing n observations of the regressand.\n",
    "\n",
    "    Returns:\n",
    "    bhat, an ndarray containing the coefficient estimates of the p features.\n",
    "    \"\"\"\n",
    "    Q, R = la.qr(X, mode = \"economic\")\n",
    "    bhat = la.solve_triangular(R, Q.T @ y, lower = False)\n",
    "    return bhat"
   ]
  },
  {
   "cell_type": "markdown",
   "metadata": {},
   "source": [
    "### Part C: Normal Equations (3 points)\n",
    "\n",
    "Often, this is the way statistics textbooks solve the problem: $\\hat{b} = (X^T X)^{-1} X^T y$.  This is based on the normal equation $X^T X \\hat{b} = X^T y$.\n",
    "\n",
    "Write a function `solve_lstsq_normal(X, y)` which estimates `b` using the normal equations above. Note that forming the full inverse would be slow and unstable. Instead, you should try to apply $(X^TX)^{-1}$ by forming a Cholesky factorization instead."
   ]
  },
  {
   "cell_type": "code",
   "execution_count": 62,
   "metadata": {},
   "outputs": [],
   "source": [
    "def solve_lstsq_normal(X, y):\n",
    "    \"\"\"\n",
    "    Estimates bhat using the normal equations and the Cholesky decomposition.\n",
    "\n",
    "    Parameters:\n",
    "    X is an ndarray representing the (n x p) design matrix.\n",
    "    y is an ndarray containing n observations of the regressand.\n",
    "\n",
    "    Returns:\n",
    "    bhat, an ndarray containing the coefficient estimates of the p features.\n",
    "    \"\"\"\n",
    "    XTX = X.T @ X\n",
    "    XTy = X.T @ y\n",
    "    L = la.cholesky(XTX, lower = True)\n",
    "    LTb = la.solve_triangular(L, XTy, lower = True)\n",
    "    bhat = la.solve_triangular(L.T, LTb, lower = False)\n",
    "    return bhat"
   ]
  },
  {
   "cell_type": "markdown",
   "metadata": {},
   "source": [
    "### Part D: Check Your Work (3 points)\n",
    "\n",
    "Generate a few random problems to test that `solve_lstsq_qr` and `solve_lstsq_normal` give the same prediction $\\hat{b}$ (measure $\\|\\hat{b}_{qr} - \\hat{b}_{normal}\\|_2$ and check it is smaller than `1e-4`).  Use $n > p$.  Check against `solve_lstsq` in numpy or scipy as well.\n",
    "\n",
    "-----------------\n",
    "\n",
    "All three of our methods (`solve_lstsq_qr`, `solve_lstsq_normal`, and SciPy's built-in `solve_lstsq`) yield very close estimates for `bhat`. In fact, as shown below, the 2-norm of the difference in estimates of `bhat` across any pair of these approaches is typically on the order of `1e-14` or `1e-15` or better, well below our target `1e-4` cutoff."
   ]
  },
  {
   "cell_type": "code",
   "execution_count": 63,
   "metadata": {},
   "outputs": [
    {
     "name": "stdout",
     "output_type": "stream",
     "text": [
      "Test 0:\n",
      "Norm of Difference Between SciPy Function and QR Method Solutions: 0.0\n",
      "Norm of Difference Between SciPy Function and Normal Equation Method Solutions: 0.0\n",
      "Norm of Difference Between QR Method and Normal Equation Method Solutions: 0.0\n",
      "\n",
      "\n",
      "Test 1:\n",
      "Norm of Difference Between SciPy Function and QR Method Solutions: 0.0\n",
      "Norm of Difference Between SciPy Function and Normal Equation Method Solutions: 5.551115123125783e-17\n",
      "Norm of Difference Between QR Method and Normal Equation Method Solutions: 5.551115123125783e-17\n",
      "\n",
      "\n",
      "Test 2:\n",
      "Norm of Difference Between SciPy Function and QR Method Solutions: 2.112525708040994e-15\n",
      "Norm of Difference Between SciPy Function and Normal Equation Method Solutions: 7.646446993452937e-15\n",
      "Norm of Difference Between QR Method and Normal Equation Method Solutions: 6.031395788833947e-15\n",
      "\n",
      "\n"
     ]
    }
   ],
   "source": [
    "# Demonstrate that our least squares functions work for a handful of random problems\n",
    "num_tests = 3\n",
    "\n",
    "for i in range(num_tests):\n",
    "    # Randomly generate n and p < n\n",
    "    n = np.random.randint(2, 11)\n",
    "    p = np.random.randint(1, n)\n",
    "\n",
    "    # Generate a random least squares problem with n observations, p features\n",
    "    y, X, b = gen_lstsq(n, p)\n",
    "\n",
    "    # Three different methods for obtaining least squares solution\n",
    "    bhat_scipy = la.lstsq(X, y)[0]\n",
    "    bhat_qr = solve_lstsq_qr(X, y)\n",
    "    bhat_normal = solve_lstsq_normal(X, y)\n",
    "    bhats = np.array([bhat_scipy, bhat_qr, bhat_normal])\n",
    "\n",
    "    # Print norms of differences among our three methods\n",
    "    print(\"Test \", i, \":\", sep = \"\")\n",
    "    print(\"Norm of Difference Between SciPy Function and QR Method Solutions:\", la.norm(bhats[0] - bhats[1], 2))\n",
    "    print(\"Norm of Difference Between SciPy Function and Normal Equation Method Solutions:\", la.norm(bhats[0] - bhats[2], 2))\n",
    "    print(\"Norm of Difference Between QR Method and Normal Equation Method Solutions:\", la.norm(bhats[1] - bhats[2], 2))\n",
    "    print(\"\\n\")\n",
    "\n",
    "# print(la.lstsq(X, y)[0])\n",
    "# print(bhat_qr)\n",
    "# print(bhat_normal)"
   ]
  },
  {
   "cell_type": "markdown",
   "metadata": {},
   "source": [
    "### Part E: Estimate the Error (6 points)\n",
    "\n",
    "Write a function `err` which estimates the error in your fit using the equation $\\frac{1}{n}\\|X * \\hat{b} - y\\|_2^2$. The function should have the call signature `err(X,y,bhat).` \n",
    "\n",
    "Create a plot of the error vs the noise parameter `sig` (i.e. use your code from the previous parts to generate $y,$ $\\hat{b},$ and $X$ for various $\\sigma \\in[10^{-4},10]$ and use `err` to compute the corresponding error).  Use `n=100`, `p=50` when generating data.  Put your plot on log-log axes.  Give it a title and axis labels.\n",
    "\n",
    "As above, you should generate `X` to be `N x p` using `np.random.randn`, and set `y = X * b + sig * np.random.randn(p)`. Note: when choosing `sig` on $[10^{-4},10]$ it would help if you gave them a logarithmic distribution (like taking equispaced points $t_0,\\dots,t_N$ between -4 and 1, and setting $\\sigma_0 =10^{t_0},\\dots, \\sigma_N = 10^{t_n}.$\n",
    "\n",
    "Try to make smoother plots by averaging the error over several trials.\n"
   ]
  },
  {
   "cell_type": "code",
   "execution_count": 64,
   "metadata": {},
   "outputs": [
    {
     "data": {
      "image/png": "[encoded data removed]",
      "text/plain": [
       "<Figure size 640x480 with 1 Axes>"
      ]
     },
     "metadata": {},
     "output_type": "display_data"
    }
   ],
   "source": [
    "def err(X, y, bhat):\n",
    "    \"\"\"\n",
    "    Estimates the error in a regression fit using the sum over squared residuals (SSR) over n.\n",
    "\n",
    "    Parameters:\n",
    "    X is an ndarray representing the (n x p) design matrix.\n",
    "    y is an ndarray containing n observations of the regressand.\n",
    "    bhat is an ndarray containing the coefficient estimates of the p features.\n",
    "\n",
    "    Returns:\n",
    "    SSR_n, a float calculated as the sum of squared residuals of our fit, divided by the number of observations in the data.\n",
    "    \"\"\"\n",
    "    # Compute additional variables (number of observations, predicted values, residuals)\n",
    "    n = len(y)\n",
    "    yhat = X @ bhat\n",
    "    eps_hat = yhat - y\n",
    "    # Compute and return error\n",
    "    SSR_n = (la.norm(eps_hat, ord = 2)**2) / n\n",
    "    return SSR_n\n",
    "\n",
    "# Parameters of randomly-generated least squares problems\n",
    "n = 100\n",
    "p = 50\n",
    "\n",
    "# We consider 100 noise terms with variances logarithmically spaced between 1e-4 and 1e1\n",
    "sigs = np.logspace(-4, 1, 100)\n",
    "# Initialize empty array of 100 corresponding errors\n",
    "errors = np.zeros(len(sigs))\n",
    "\n",
    "# Compute average errors (across several trials) for each level of noise (sigma)\n",
    "for i in range(len(sigs)):\n",
    "    # Run 100 trials per given level of noise (i.e., per sigma) and compute the average error to smooth out plot\n",
    "    errors_given_sig = np.zeros(100)\n",
    "    for j in range(len(errors_given_sig)):\n",
    "        y, X, b = gen_lstsq(n, p, sigs[i])\n",
    "        bhat = solve_lstsq_qr(X, y)\n",
    "        errors_given_sig[j] = err(X, y, bhat)\n",
    "    errors[i] = np.mean(errors_given_sig)\n",
    "\n",
    "# Plotting\n",
    "plt.plot(sigs, errors, linewidth = 2)\n",
    "plt.xlabel(r\"Variance of Noise ($\\sigma$)\")\n",
    "plt.ylabel(r\"Error ($\\frac{1}{n}$SSR)\")\n",
    "plt.title(\"Least Squares Error vs. Variance of Noise Term\")\n",
    "plt.loglog()\n",
    "plt.grid()\n"
   ]
  },
  {
   "cell_type": "markdown",
   "metadata": {},
   "source": [
    "### Part F: Discussion (10 points)\n",
    "\n",
    "Which of `solve_lstsq_qr` and `solve_lstsq_normal` is faster?  Give a justification for your answer (e.g. in terms of what you know about time to compute matrix multiplication and factorizations as a function of $n$ and $p$).\n",
    "\n",
    "Suppose that $\\kappa(X)$ is large. Which of `solve_lstsq_qr` and `solve_lstsq_normal` will be more stable? i.e. which of $\\hat{b} = R^{-1} Q^T y$ and $\\hat{b} = (X^T X)^{-1} X^T y$ has a smaller condition number? Use the fact that the matrix condition number satisfies\n",
    "$$\n",
    "\\kappa(A^{-1}) = \\kappa(A), \\qquad \\kappa(A^T) = \\kappa(A), \\qquad \\kappa(AB) \\approx \\kappa(A)\\kappa(B),\n",
    "$$\n",
    "and that\n",
    "$$\n",
    "\\kappa(Q) = 1\n",
    "$$\n",
    "because the columns of $Q$ are orthonormal. You should also use the fact that for most $A$ and $B$\n",
    "$$\n",
    "\\kappa(AB) \\approx \\kappa(A)\\kappa(B).\n",
    "$$\n",
    "Note that there are counter examples, e.g. $1=\\kappa(I)=\\kappa(AA^{-1})< \\kappa(A)\\kappa(A^{-1})=\\kappa(A)^2$ whenever $\\kappa(A)>1$."
   ]
  },
  {
   "cell_type": "code",
   "execution_count": 65,
   "metadata": {},
   "outputs": [
    {
     "name": "stdout",
     "output_type": "stream",
     "text": [
      "QR Approach Runtime:\t\t\t 0.003590822219848633\n",
      "Normal Equation Approach Runtime:\t 0.00023126602172851562\n"
     ]
    }
   ],
   "source": [
    "import time # to compute runtimes\n",
    "from tqdm import tqdm # progress bar\n",
    "\n",
    "# Randomly generate n and p < n\n",
    "n = np.random.randint(2, 100)\n",
    "p = np.random.randint(1, n)\n",
    "\n",
    "y, X, b = gen_lstsq(n, p)\n",
    "\n",
    "ts = []\n",
    "\n",
    "fs = np.array([solve_lstsq_qr, solve_lstsq_normal])\n",
    "for i in range(len(fs)):\n",
    "    t0 = time.time()\n",
    "    bhat = fs[i](X, y)\n",
    "    t1 = time.time()\n",
    "    ts.append(t1 - t0)\n",
    "\n",
    "print(\"QR Approach Runtime:\\t\\t\\t\", ts[0])\n",
    "print(\"Normal Equation Approach Runtime:\\t\", ts[1])"
   ]
  },
  {
   "cell_type": "markdown",
   "metadata": {},
   "source": [
    "--------------------------\n",
    "\n",
    "**(I) Speed**\n",
    "\n",
    "As shown above, our normal equation approach to solving a least squares problem is faster than our QR factorization approach. This is because...\n",
    "\n",
    "Our QR factorization approach involves:\n",
    "* The QR factorization of the $n \\times p$ matrix $X$, which is $O(2np^2)$ (see, *e.g.*, https://ics.uci.edu/~xhx/courses/CS206/NLA-QR.pdf),\n",
    "* The matrix-vector product $Q^T y$, where $Q^T$ is $p \\times n$ and $y$ is $n \\times 1$, which is $O(np)$, and\n",
    "* Solving the triangular system $R \\hat{b} = Q^T y$, where $R$ is $p \\times p$ and $\\hat{b}$ and $Q^T y$ are each $p \\times 1$, which is $O(p^2)$.\n",
    "\n",
    "Thus, the overall computational complexity of `solve_lstsq_qr` is $O(2np^2 + np + p^2) = O(2np^2)$.\n",
    "\n",
    "Meanwhile, our normal equation approach involves:\n",
    "* The matrix-matrix product $X^T X$, where $X$ is $n \\times p$, which is $O(np^2)$,\n",
    "* The matrix-vector product $X^T y$, where $X$ is $n \\times p$ and $y$ is $n \\times 1$, which is $O(np)$,\n",
    "* The Cholesky decomposition of the $p \\times p$ matrix $X^T X$, which is $O(p^3)$,\n",
    "* Solving the triangular system $L \\times L^T \\hat{b} = (X^T y)$, where $L$ is $p \\times p$ and $(X^T y)$ is $p \\times 1$, which is $O(p^2)$, and\n",
    "* Solving the triangular system $L^T \\hat{b} = L^{-1} (X^T y)$, where $L$ is $p \\times p$ and $L^{-1} (X^T y)$ is $p \\times 1$, which is $O(p^2)$.\n",
    "\n",
    "Thus, the overall computational complexity of `solve_lstsq_normal` is $O(np^2 + np + p^3 + 2p^2) = O(np^2 + p^3) = O(np^2)$, since $p < n$.\n",
    "\n",
    "As such, our normal equation approach (`solve_lstsq_normal`) is computationally faster than our QR factorization approach (`solve_lstsq_qr`), as we illustrated through the example above.\n",
    "\n",
    "**(II) Stability**\n",
    "\n",
    "The condition number for the matrix of $\\hat{b} = R^{-1} Q^T y$ is:\n",
    "$$\n",
    "\\kappa(R^{-1} Q^T) \\approx \\kappa(R^{-1})\\kappa(Q^T) = \\kappa(R)\\kappa(Q) = \\kappa(R) \\times 1 = \\kappa(R),\n",
    "$$\n",
    "but since we factorized $X = QR$, we have\n",
    "$$\n",
    "\\kappa(X) = \\kappa(QR) \\approx \\kappa(Q)\\kappa(R) = 1 \\times \\kappa(R) = \\kappa(R),\n",
    "$$\n",
    "so that\n",
    "$$\n",
    "\\kappa(R^{-1} Q^T) = \\kappa(R) = \\kappa(X).\n",
    "$$\n",
    "\n",
    "Meanwhile, the condition number for the matrix of $\\hat{b} = (X^T X)^{-1} X^T y$ is:\n",
    "$$\n",
    "\\kappa((X^T X)^{-1} X^T) \\approx \\kappa((X^T X)^{-1})\\kappa(X^T) = \\kappa(X^T X)\\kappa(X^T) \\approx \\kappa(X^T)\\kappa(X)\\kappa(X^T) = \\kappa(X)\\kappa(X)\\kappa(X) = \\kappa(X)^3.\n",
    "$$\n",
    "\n",
    "Since we are assuming that $\\kappa(X)$ is large, it is clear that $\\kappa(X) < \\kappa(X)^3$. Thus, our function for solving a least squares problem using the QR factorization (`solve_lstsq_qr`) is (significantly) more stable than our function for solving a least squares problem using the normal equations (`solve_lstsq_normal`)."
   ]
  },
  {
   "cell_type": "markdown",
   "metadata": {},
   "source": [
    "### Part G: Optimization (5 points)\n",
    "\n",
    "Solve the minimization problem \n",
    "\\begin{equation}\n",
    "\\mathop{\\mathsf{minimize}}_b \\frac{1}{n}\\|X*b - y\\|_2^2\n",
    "\\end{equation}\n",
    "\n",
    "using `scipy.optimize.minimize`.  Wrap this in a function `solve_lstsq_opt(X, y)`.  Note that you can define the objective function inside `solve_lstsq_opt`\n",
    "\n",
    "**Jacobian**: you should implement the Jacobian of the objective function to use in the optimization problem.  Here's a derivation:  We'd like to minimize the objective function\n",
    "\\begin{equation}\n",
    "n f(b) = \\|X*b - y\\|_2^2 = (Xb - y)^T (Xb - y) = b^T X^T X b - 2 y^T X b + y^T y\n",
    "\\end{equation}\n",
    "\n",
    "We might write the above expression as\n",
    "\\begin{equation}\n",
    "n f(b) \\sum_{i,j} b_i (X^T X)_{i,j} b_j - 2\\sum_{j,i} y_i X_{i,j} b_j + y^T y\n",
    "\\end{equation}\n",
    "\n",
    "We can take a derivative with respect to $b_j$\n",
    "\\begin{equation}\n",
    "n \\frac{\\partial f}{\\partial b_j} = \\sum_{i\\ne j} b_i (X^T X)_{i,j} + \\sum_{i\\ne j} (X^T X)_{j,i} b_i + 2 (X^T X)_{j,j} b_j  - 2\\sum_{i} y_i X_{i,j}\n",
    "\\end{equation}\n",
    "\n",
    "Putting this in matrix form, we obtain\n",
    "\\begin{equation}\n",
    "J_f(b) =  \\frac{1}{n}\\big( b^T (X^T X) + b^T (X^T X)^T - 2y^T X\\big) = \\frac{2}{n} b^T (X^T X) -\\frac{2}{n}y^T X\n",
    "\\end{equation}\n",
    "\n",
    "So we can write $J_f(b) = \\frac{2}{n} b^T (X^T X) -\\frac{2}{n} y^T X$"
   ]
  },
  {
   "cell_type": "code",
   "execution_count": 66,
   "metadata": {},
   "outputs": [],
   "source": [
    "def solve_lstsq_opt(X, y):\n",
    "    \"\"\"\n",
    "    Estimates bhat using a minimization approach.\n",
    "\n",
    "    Parameters:\n",
    "    X is an ndarray representing the (n x p) design matrix.\n",
    "    y is an ndarray containing n observations of the regressand.\n",
    "\n",
    "    Returns:\n",
    "    bhat, an ndarray containing the coefficient estimates of the p features.\n",
    "    \"\"\"\n",
    "    n = len(y)\n",
    "    obj_fcn = lambda b : (la.norm(X @ b - y, ord = 2)**2) / n\n",
    "    \n",
    "    # Initial guess is simply the zero vector\n",
    "    zero = np.zeros(len(X[0]))\n",
    "\n",
    "    # Jacobian\n",
    "    Jf = lambda b : (2/n * b.T @ (X.T @ X)) - (2/n * y.T @ X)\n",
    "    \n",
    "    soln = scipy.optimize.minimize(obj_fcn, zero, jac = Jf)\n",
    "    bhat = soln.x\n",
    "    return bhat\n",
    "    "
   ]
  },
  {
   "cell_type": "markdown",
   "metadata": {},
   "source": [
    "#### Check Your Work\n",
    "\n",
    "Generate a few random problems to test that `solve_lstsq_opt` agrees with `solve_lstsq_qr` and `solve_lstsq_normal` in part A.  Use the same tolerance for checking.\n",
    "\n",
    "----------------------\n",
    "\n",
    "All four of our methods (`solve_lstsq_qr`, `solve_lstsq_normal`, `solve_lstsq_opt`, and SciPy's built-in `solve_lstsq`) yield very close estimates for `bhat`. In fact, as shown below, the 2-norm of the difference in estimates of `bhat` across any pair of these approaches is at most on the order of `1e-5`, better than our `1e-4` cutoff."
   ]
  },
  {
   "cell_type": "code",
   "execution_count": 67,
   "metadata": {},
   "outputs": [
    {
     "name": "stdout",
     "output_type": "stream",
     "text": [
      "Test 0:\n",
      "Norm of Difference Between SciPy Function and QR Method Solutions: 0.0\n",
      "Norm of Difference Between SciPy Function and Normal Equation Method Solutions: 1.6653345369377348e-16\n",
      "Norm of Difference Between SciPy Function and Optimization Method Solutions: 1.6653345369377348e-16\n",
      "Norm of Difference Between QR Method and Normal Equation Method Solutions: 1.6653345369377348e-16\n",
      "Norm of Difference Between QR Method and Optimization Method Solutions: 1.6653345369377348e-16\n",
      "Norm of Difference Between Normal Equation Method and Optimization Method Solutions: 0.0\n",
      "\n",
      "\n",
      "Test 1:\n",
      "Norm of Difference Between SciPy Function and QR Method Solutions: 2.220446049250313e-16\n",
      "Norm of Difference Between SciPy Function and Normal Equation Method Solutions: 7.021666937153402e-16\n",
      "Norm of Difference Between SciPy Function and Optimization Method Solutions: 4.403877107217848e-07\n",
      "Norm of Difference Between QR Method and Normal Equation Method Solutions: 4.965068306494546e-16\n",
      "Norm of Difference Between QR Method and Optimization Method Solutions: 4.4038771060711933e-07\n",
      "Norm of Difference Between Normal Equation Method and Optimization Method Solutions: 4.4038771056793463e-07\n",
      "\n",
      "\n",
      "Test 2:\n",
      "Norm of Difference Between SciPy Function and QR Method Solutions: 1.7860880045179793e-15\n",
      "Norm of Difference Between SciPy Function and Normal Equation Method Solutions: 2.7242914002893767e-15\n",
      "Norm of Difference Between SciPy Function and Optimization Method Solutions: 4.8397063559556606e-06\n",
      "Norm of Difference Between QR Method and Normal Equation Method Solutions: 1.8670653977139894e-15\n",
      "Norm of Difference Between QR Method and Optimization Method Solutions: 4.83970635512705e-06\n",
      "Norm of Difference Between Normal Equation Method and Optimization Method Solutions: 4.839706353519689e-06\n",
      "\n",
      "\n"
     ]
    }
   ],
   "source": [
    "# Demonstrate that our least squares functions work for a handful of random problems\n",
    "num_tests = 3\n",
    "\n",
    "for i in range(num_tests):\n",
    "    # Randomly generate n and p < n\n",
    "    n = np.random.randint(2, 11)\n",
    "    p = np.random.randint(1, n)\n",
    "\n",
    "    # Generate a random least squares problem with n observations, p features\n",
    "    y, X, b = gen_lstsq(n, p)\n",
    "\n",
    "    # Four different methods for obtaining least squares solution\n",
    "    bhat_scipy = la.lstsq(X, y)[0]\n",
    "    bhat_qr = solve_lstsq_qr(X, y)\n",
    "    bhat_normal = solve_lstsq_normal(X, y)\n",
    "    bhat_opt = solve_lstsq_opt(X, y)\n",
    "    bhats = np.array([bhat_scipy, bhat_qr, bhat_normal, bhat_opt])\n",
    "\n",
    "    # print(la.lstsq(X, y)[0])\n",
    "    # print(bhat_qr)\n",
    "    # print(bhat_normal)\n",
    "    # print(bhat_opt)\n",
    "    # print(\"\\n\")\n",
    "\n",
    "    # Print norms of differences among our three methods (excluding the built-in SciPy function, which we already checked against in Part (D))\n",
    "    print(\"Test \", i, \":\", sep = \"\")\n",
    "    print(\"Norm of Difference Between SciPy Function and QR Method Solutions:\", la.norm(bhats[0] - bhats[1], 2))\n",
    "    print(\"Norm of Difference Between SciPy Function and Normal Equation Method Solutions:\", la.norm(bhats[0] - bhats[2], 2))\n",
    "    print(\"Norm of Difference Between SciPy Function and Optimization Method Solutions:\", la.norm(bhats[0] - bhats[3], 2))\n",
    "    print(\"Norm of Difference Between QR Method and Normal Equation Method Solutions:\", la.norm(bhats[1] - bhats[2], 2))\n",
    "    print(\"Norm of Difference Between QR Method and Optimization Method Solutions:\", la.norm(bhats[1] - bhats[3], 2))\n",
    "    print(\"Norm of Difference Between Normal Equation Method and Optimization Method Solutions:\", la.norm(bhats[2] - bhats[3], 2))\n",
    "    print(\"\\n\")\n",
    "\n"
   ]
  },
  {
   "cell_type": "markdown",
   "metadata": {},
   "source": [
    "### Part H: Discussion (2 points)\n",
    "\n",
    "How fast is `solve_lstsq_opt` compared to the functions you wrote in part A?  Give some justification for what you see."
   ]
  },
  {
   "cell_type": "code",
   "execution_count": 68,
   "metadata": {},
   "outputs": [
    {
     "name": "stdout",
     "output_type": "stream",
     "text": [
      "QR Approach Runtime:\t\t\t 0.003319263458251953\n",
      "Normal Equation Approach Runtime:\t 0.0004513263702392578\n",
      "Optimization Approach Runtime:\t\t 0.0024950504302978516\n"
     ]
    }
   ],
   "source": [
    "import time # to compute runtimes\n",
    "from tqdm import tqdm # progress bar\n",
    "\n",
    "# Randomly generate n and p < n\n",
    "n = np.random.randint(2, 100)\n",
    "p = np.random.randint(1, n)\n",
    "\n",
    "y, X, b = gen_lstsq(n, p)\n",
    "\n",
    "ts = []\n",
    "\n",
    "fs = np.array([solve_lstsq_qr, solve_lstsq_normal, solve_lstsq_opt])\n",
    "for i in range(len(fs)):\n",
    "    t0 = time.time()\n",
    "    bhat = fs[i](X, y)\n",
    "    t1 = time.time()\n",
    "    ts.append(t1 - t0)\n",
    "\n",
    "print(\"QR Approach Runtime:\\t\\t\\t\", ts[0])\n",
    "print(\"Normal Equation Approach Runtime:\\t\", ts[1])\n",
    "print(\"Optimization Approach Runtime:\\t\\t\", ts[2])"
   ]
  },
  {
   "cell_type": "markdown",
   "metadata": {},
   "source": [
    "As shown above, our new optimization approach to solving the least squares problem (`solve_lstsq_opt`) is often (but not always) slower than both our QR factorization and normal equation approaches. This is not too surprising: our optimization approach requires may require several iterations to determine the coordinates of `b` that (approximately) minimize the objective function, and for many randomly-generated least squares problems, our initial \"guess\" for `b`, the $p$-dimensional zero vector, will be so far off that it further drives up the number of iterations required to identify `bhat`. (Of course, if `bhat` happens to be very close to the zero vector---our initial guess---then the optimization approach may be faster than either other approach.) Our QR factorization and normal equation approaches, on the other hand, follow rote procedures and don't rely on iterations or initial guesses, making them generally faster (again, perhaps unless `bhat` happens to be very close to the zero vector)."
   ]
  },
  {
   "cell_type": "markdown",
   "metadata": {},
   "source": [
    "## Problem 1 - Ridge Regression (13 points)\n",
    "\n",
    "We'll now turn to the problem of what to do when `n < p` (there are now fewer observations than features).  In this case we can find a $b$ which satisfies the equation $X * b = y$ exactly, but there are many possible values of $b$ which can satisfy the equation.\n",
    "\n",
    "As we discussed in class, we can change the problem to try to make it unique. One simple way of doing this is to add an additional term to our optimization problem. Ridge regression is one such approach.\n",
    "\n",
    "Ridge regression seeks to solve the following optimization problem:\n",
    "\n",
    "\\begin{equation}\n",
    "\\mathop{\\mathsf{minimize}}_b \\frac{1}{n}\\|X*b - y\\|_2^2 + \\lambda \\|b\\|_2^2\n",
    "\\end{equation}\n",
    "\n",
    "$\\lambda$ is a parameter you can choose to \"regularize\" the problem which you can choose.\n",
    "\n",
    "### Part A: Optimization (9 points)\n",
    "\n",
    "Use `scipy.optimize.minimize` to minimize the above optimization problem.  Wrap this in a function `solve_ridge_opt(X, y, lam=0.1)` (`lam` should be provided as a keyword argument for the variable $\\lambda$).\n",
    "\n",
    "What is the Jacobian for the objective function for the minimization problem?  Incorporate this into your optimization problem.  Hint: differentiation is linear, so you just need to add a term to the Jacobian in Problem 0 based on the Jacobian of\n",
    "\\begin{equation}\n",
    "\\lambda \\|b\\|_2^2 = \\lambda b^T b = \\lambda \\sum_i b_i^2\n",
    "\\end{equation}\n",
    "\n",
    "---\n",
    "\n",
    "Let $g(x) = \\lambda \\|b\\|_2^2 = \\lambda b^T b = \\lambda \\sum_i b_i^2$. Differentiating with respect to $b_j$:\n",
    "$$\n",
    "\\frac{\\partial g}{\\partial b_j} = 2\\lambda b_j.\n",
    "$$\n",
    "\n",
    "Thus, the Jacobian for the objective function of the ridge regression minimization problem is\n",
    "$$\n",
    "J_f(b) =  \\frac{1}{n}\\big( b^T (X^T X) + b^T (X^T X)^T - 2y^T X\\big) = \\frac{2}{n} b^T (X^T X) -\\frac{2}{n}y^T X + 2\\lambda b^T.\n",
    "$$\n"
   ]
  },
  {
   "cell_type": "code",
   "execution_count": 69,
   "metadata": {},
   "outputs": [],
   "source": [
    "def solve_ridge_opt(X, y, lam = 0.1):\n",
    "    \"\"\"\n",
    "    Estimates bhat of a ridge regression using a minimization approach.\n",
    "\n",
    "    Parameters:\n",
    "    X is an ndarray representing the (n x p) design matrix.\n",
    "    y is an ndarray containing n observations of the regressand.\n",
    "    lam is a float representing the regularization parameter lambda.\n",
    "\n",
    "    Returns:\n",
    "    bhat, an ndarray containing the coefficient estimates of the p features.\n",
    "    \n",
    "    \"\"\"\n",
    "    n = len(y)\n",
    "    obj_fcn = lambda b : (la.norm(X @ b - y, ord = 2)**2)/n + lam * la.norm(b, ord = 2)**2\n",
    "\n",
    "    # Initial guess is simply the zero vector\n",
    "    zero = np.zeros(len(X[0]))\n",
    "\n",
    "    # Jacobian\n",
    "    Jf = lambda b : (2/n * b.T @ (X.T @ X)) - (2/n * y.T @ X) + 2*lam * b.T\n",
    "\n",
    "    soln = scipy.optimize.minimize(obj_fcn, zero, jac = Jf)\n",
    "    bhat = soln.x\n",
    "    return bhat\n",
    "    "
   ]
  },
  {
   "cell_type": "markdown",
   "metadata": {},
   "source": [
    "### Part B: Compute the error (4 points)\n",
    "\n",
    "Set `n = 50`, `p=100`, and `sig=0.1`.  Make a plot that displays the error of `bhat` computed using `solve_ridge_opt` as `lam` varies between `1e-4` and `1e2` (see Problem 0, Part E).  Use a `semilogx` plot."
   ]
  },
  {
   "cell_type": "code",
   "execution_count": 70,
   "metadata": {},
   "outputs": [
    {
     "data": {
      "image/png": "[encoded data removed]",
      "text/plain": [
       "<Figure size 640x480 with 1 Axes>"
      ]
     },
     "metadata": {},
     "output_type": "display_data"
    }
   ],
   "source": [
    "# Parameters of randomly-generated least squares problems\n",
    "n = 50\n",
    "p = 100\n",
    "sig = 0.1\n",
    "\n",
    "# We consider 100 regularization parameters logarithmically spaced between 1e-4 and 1e2\n",
    "lams = np.logspace(-4, 2, 100)\n",
    "\n",
    "# Initialize empty array of 100 corresponding errors\n",
    "errors = np.zeros(len(lams))\n",
    "\n",
    "# Compute average errors (across several trials) for each regularization parameter (lambda)\n",
    "for i in range(len(lams)):\n",
    "    # Run 100 trials per given regularization parameter (i.e., per lambda) and compute the average error to smooth out plot\n",
    "    errors_given_lam = np.zeros(100)\n",
    "    for j in range(len(errors_given_lam)):\n",
    "        y, X, b = gen_lstsq(n, p, sig)\n",
    "        bhat = solve_ridge_opt(X, y, lams[i])\n",
    "        errors_given_lam[j] = err(X, y, bhat)\n",
    "    errors[i] = np.mean(errors_given_lam)\n",
    "\n",
    "# Plotting\n",
    "plt.plot(lams, errors, linewidth = 2)\n",
    "plt.xlabel(r\"Regularization Parameter ($\\lambda$)\")\n",
    "plt.ylabel(r\"Error ($\\frac{1}{n}$SSR)\")\n",
    "plt.title(\"Ridge Regression Error vs. Regularization Parameter\")\n",
    "plt.semilogx()\n",
    "plt.grid()\n",
    "\n"
   ]
  },
  {
   "cell_type": "markdown",
   "metadata": {},
   "source": [
    "### Part C: Analysis (optional - no points)\n",
    "\n",
    "Find an analytic expression for the true solution to the ridge regression problem in terms of $X,$ $\\lambda,$ and $y.$"
   ]
  },
  {
   "cell_type": "markdown",
   "metadata": {},
   "source": [
    "### Part D: SVD (optional - no points)\n",
    "\n",
    "Use the SVD to solve $X*b = y.$ Do this by forming the SVD of $X = U\\Sigma V^T.$ Set $b = V z$ where $V$ is the $p\\times n$ matrix consisting of the first $n$ right singular vectors (why?). Then, the system you get is $U \\Sigma z = y.$ You can solve it by applying $U^T$ to both sides (why?) and noting that $\\Sigma$ is diagonal. \n",
    "\n",
    "Note that you should be using the version of the SVD which (for $n<p$ but $X$ having full rank) gives $U$ as an $n\\times n$ matrix, $\\Sigma$ as an $n\\times n$ diagonal matrix, and $V$ as a $p \\times n$ matrix."
   ]
  },
  {
   "cell_type": "code",
   "execution_count": null,
   "metadata": {},
   "outputs": [],
   "source": []
  }
 ],
 "metadata": {
  "kernelspec": {
   "display_name": "Python 3 (ipykernel)",
   "language": "python",
   "name": "python3"
  },
  "language_info": {
   "codemirror_mode": {
    "name": "ipython",
    "version": 3
   },
   "file_extension": ".py",
   "mimetype": "text/x-python",
   "name": "python",
   "nbconvert_exporter": "python",
   "pygments_lexer": "ipython3",
   "version": "3.8.18"
  }
 },
 "nbformat": 4,
 "nbformat_minor": 4
}
